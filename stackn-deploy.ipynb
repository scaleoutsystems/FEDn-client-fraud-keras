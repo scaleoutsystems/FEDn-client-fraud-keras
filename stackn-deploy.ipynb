{
 "cells": [
  {
   "cell_type": "code",
   "execution_count": 3,
   "id": "saving-cleaners",
   "metadata": {},
   "outputs": [],
   "source": [
    "import os\n",
    "import tensorflow as tf\n",
    "from stackn import stackn\n",
    "from fedn.utils.kerashelper import KerasHelper\n",
    "from client.models.autocoder import create_seed_model"
   ]
  },
  {
   "cell_type": "code",
   "execution_count": null,
   "id": "nonprofit-institute",
   "metadata": {},
   "outputs": [],
   "source": [
    "21a8cda1-0b63-425b-931e-a207b3dee147"
   ]
  },
  {
   "cell_type": "code",
   "execution_count": 4,
   "id": "greatest-basin",
   "metadata": {},
   "outputs": [],
   "source": [
    "path_to_model_weights = '/home/jovyan/work/minio-vol/fedn-models/21a8cda1-0b63-425b-931e-a207b3dee147'\n",
    "\n",
    "helper = KerasHelper()\n",
    "weights = helper.load_model(path_to_model_weights)\n",
    "\n",
    "model = create_seed_model()\n",
    "model.set_weights(weights)"
   ]
  },
  {
   "cell_type": "code",
   "execution_count": 5,
   "id": "offensive-giving",
   "metadata": {},
   "outputs": [
    {
     "name": "stdout",
     "output_type": "stream",
     "text": [
      "INFO:tensorflow:Assets written to: models/1/assets\n"
     ]
    },
    {
     "name": "stderr",
     "output_type": "stream",
     "text": [
      "04/25/2021 10:25:49 PM [builder_impl.py:774] Assets written to: models/1/assets\n"
     ]
    },
    {
     "name": "stdout",
     "output_type": "stream",
     "text": [
      "Released model: fedn-fraud, release_type: minor\n"
     ]
    },
    {
     "data": {
      "text/plain": [
       "True"
      ]
     },
     "execution_count": 5,
     "metadata": {},
     "output_type": "execute_result"
    }
   ],
   "source": [
    "tf.saved_model.save(model, 'models/1/')\n",
    "stackn.create_object('fedn-fraud', release_type=\"minor\")"
   ]
  },
  {
   "cell_type": "code",
   "execution_count": null,
   "id": "prospective-arbor",
   "metadata": {},
   "outputs": [],
   "source": []
  }
 ],
 "metadata": {
  "kernelspec": {
   "display_name": "Python 3",
   "language": "python",
   "name": "python3"
  },
  "language_info": {
   "codemirror_mode": {
    "name": "ipython",
    "version": 3
   },
   "file_extension": ".py",
   "mimetype": "text/x-python",
   "name": "python",
   "nbconvert_exporter": "python",
   "pygments_lexer": "ipython3",
   "version": "3.8.8"
  }
 },
 "nbformat": 4,
 "nbformat_minor": 5
}
