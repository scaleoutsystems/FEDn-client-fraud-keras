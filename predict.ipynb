{
 "cells": [
  {
   "cell_type": "code",
   "execution_count": 1,
   "id": "similar-controversy",
   "metadata": {},
   "outputs": [],
   "source": [
    "import requests\n",
    "import stackn.auth as sa\n",
    "import os\n",
    "os.environ['TF_FORCE_GPU_ALLOW_GROWTH'] = 'true'\n",
    "import numpy as np\n",
    "import tensorflow as tf\n",
    "from tensorflow import keras\n",
    "from tensorflow.keras import layers\n",
    "import sys\n",
    "from client.data.read_data import read_data\n",
    "import json\n",
    "import yaml"
   ]
  },
  {
   "cell_type": "code",
   "execution_count": 2,
   "id": "dominican-image",
   "metadata": {},
   "outputs": [],
   "source": [
    "test, test_valx, test_valy = read_data('data.csv')\n",
    "inp = {'inputs': test[0:2][::].tolist()}"
   ]
  },
  {
   "cell_type": "code",
   "execution_count": 3,
   "id": "introductory-incidence",
   "metadata": {},
   "outputs": [],
   "source": [
    "prediction_endpoint_v0_1_0 = 'https://r9869c650.studio.scaleoutsystems.com/v1/models/models:predict'\n",
    "#prediction_endpoint_v0_2_0 = 'https://rd3eebec9.studio.saas.scaleoutsystems.com/v1/models/models:predict'"
   ]
  },
  {
   "cell_type": "code",
   "execution_count": 5,
   "id": "signal-upset",
   "metadata": {},
   "outputs": [],
   "source": [
    "# Get security crendentials and make a prediction\n",
    "conf, status = sa.get_token()\n",
    "res = requests.post(prediction_endpoint_v0_1_0, json=inp, headers={\"Authorization\": \"Bearer \"+conf['STACKN_ACCESS_TOKEN']})"
   ]
  },
  {
   "cell_type": "code",
   "execution_count": 9,
   "id": "industrial-analyst",
   "metadata": {},
   "outputs": [],
   "source": [
    "# This function relies on a threshold that is optained from calibration on test data, see stack-deploy.ipynb\n",
    "def flag_transaction(enc,inp, threshold=5.59):\n",
    "    mse = np.mean((np.array(enc)-np.array(inp))**2,-1)\n",
    "    return mse > threshold"
   ]
  },
  {
   "cell_type": "code",
   "execution_count": 10,
   "id": "major-barbados",
   "metadata": {},
   "outputs": [
    {
     "data": {
      "text/plain": [
       "array([False, False])"
      ]
     },
     "execution_count": 10,
     "metadata": {},
     "output_type": "execute_result"
    }
   ],
   "source": [
    "flag_transaction(res.json()['outputs'],inp['inputs'])"
   ]
  }
 ],
 "metadata": {
  "kernelspec": {
   "display_name": "Python 3",
   "language": "python",
   "name": "python3"
  },
  "language_info": {
   "codemirror_mode": {
    "name": "ipython",
    "version": 3
   },
   "file_extension": ".py",
   "mimetype": "text/x-python",
   "name": "python",
   "nbconvert_exporter": "python",
   "pygments_lexer": "ipython3",
   "version": "3.8.8"
  }
 },
 "nbformat": 4,
 "nbformat_minor": 5
}
