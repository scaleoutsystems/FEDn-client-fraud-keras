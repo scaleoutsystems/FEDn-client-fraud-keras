{
 "cells": [
  {
   "cell_type": "code",
   "execution_count": 120,
   "id": "whole-status",
   "metadata": {},
   "outputs": [],
   "source": [
    "import requests\n",
    "import stackn.auth as sa\n",
    "import os\n",
    "os.environ['TF_FORCE_GPU_ALLOW_GROWTH'] = 'true'\n",
    "import numpy as np\n",
    "import tensorflow as tf\n",
    "from tensorflow import keras\n",
    "from tensorflow.keras import layers\n",
    "import sys\n",
    "from client.data.read_data import read_data\n",
    "import json\n",
    "import yaml"
   ]
  },
  {
   "cell_type": "code",
   "execution_count": 124,
   "id": "peaceful-surveillance",
   "metadata": {},
   "outputs": [],
   "source": [
    "test, test_valx, test_valy = read_data('/home/jovyan/work/minio-vol/data-sample/test.csv')\n",
    "inp = {'inputs': test[0:1][::].tolist()}"
   ]
  },
  {
   "cell_type": "code",
   "execution_count": 125,
   "id": "cognitive-experience",
   "metadata": {},
   "outputs": [],
   "source": [
    "conf, status = sa.get_token()\n",
    "endpoint='https://tensorflow-serving-tutorial-kgi-a5fd.studio.safespring-prod.stackn.dev/v1/models/models:predict'\n",
    "res = requests.post(endpoint, json=inp, headers={\"Authorization\": \"Bearer \"+conf['STACKN_ACCESS_TOKEN']})"
   ]
  },
  {
   "cell_type": "code",
   "execution_count": 126,
   "id": "duplicate-seeker",
   "metadata": {},
   "outputs": [
    {
     "data": {
      "text/plain": [
       "{'outputs': [[-0.399163902,\n",
       "   1.42775679,\n",
       "   -0.514179707,\n",
       "   0.45838,\n",
       "   1.55247,\n",
       "   -0.646942616,\n",
       "   -0.00936299562,\n",
       "   -0.449290872,\n",
       "   0.169201791,\n",
       "   0.370008945,\n",
       "   0.148390949,\n",
       "   0.0644911528,\n",
       "   0.486289442,\n",
       "   0.167992413,\n",
       "   -0.0849187374,\n",
       "   -0.105101824,\n",
       "   0.100634456,\n",
       "   -0.376716077,\n",
       "   0.117586195,\n",
       "   -0.24050796,\n",
       "   -0.1487028,\n",
       "   -0.125416696,\n",
       "   -0.17937851,\n",
       "   0.00492337346,\n",
       "   0.0389662236,\n",
       "   0.132693306,\n",
       "   0.0130950511,\n",
       "   -0.0231380463,\n",
       "   -0.0107932687,\n",
       "   -0.253453255]]}"
      ]
     },
     "execution_count": 126,
     "metadata": {},
     "output_type": "execute_result"
    }
   ],
   "source": [
    "res.json()"
   ]
  },
  {
   "cell_type": "code",
   "execution_count": null,
   "id": "separated-sunglasses",
   "metadata": {},
   "outputs": [],
   "source": []
  }
 ],
 "metadata": {
  "kernelspec": {
   "display_name": "Python 3",
   "language": "python",
   "name": "python3"
  },
  "language_info": {
   "codemirror_mode": {
    "name": "ipython",
    "version": 3
   },
   "file_extension": ".py",
   "mimetype": "text/x-python",
   "name": "python",
   "nbconvert_exporter": "python",
   "pygments_lexer": "ipython3",
   "version": "3.8.8"
  }
 },
 "nbformat": 4,
 "nbformat_minor": 5
}
