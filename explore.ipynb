{
 "cells": [
  {
   "cell_type": "code",
   "execution_count": 1,
   "id": "nonprofit-mainstream",
   "metadata": {},
   "outputs": [],
   "source": [
    "import sys\n",
    "from client.data.read_data import read_data\n",
    "import json\n",
    "import yaml"
   ]
  },
  {
   "cell_type": "code",
   "execution_count": 9,
   "id": "precious-joseph",
   "metadata": {},
   "outputs": [],
   "source": [
    "test,_ ,test_valy = read_data('/home/jovyan/work/minio-vol/data-sample/test.csv')"
   ]
  },
  {
   "cell_type": "code",
   "execution_count": 10,
   "id": "allied-destination",
   "metadata": {},
   "outputs": [
    {
     "data": {
      "text/plain": [
       "(array([-1.2250853 ,  1.21120728,  0.02225444,  0.22829015,  1.11153826,\n",
       "         0.05207823,  0.53569789, -0.2240108 ,  0.1659278 ,  0.39362735,\n",
       "         0.05047621, -0.24180183,  0.66283338, -0.20777186,  0.01826519,\n",
       "        -1.02524918,  0.17030148, -0.6687807 ,  0.50684478,  0.69074954,\n",
       "        -0.10771835, -0.10300042, -0.10816492, -0.26384675, -0.82710173,\n",
       "         0.81741818, -0.24362502,  0.03173199,  0.00224897, -0.30115677]),\n",
       " 0)"
      ]
     },
     "execution_count": 10,
     "metadata": {},
     "output_type": "execute_result"
    }
   ],
   "source": [
    "test[0],test_valy[0]"
   ]
  },
  {
   "cell_type": "code",
   "execution_count": 6,
   "id": "deluxe-income",
   "metadata": {},
   "outputs": [
    {
     "data": {
      "text/plain": [
       "0"
      ]
     },
     "execution_count": 6,
     "metadata": {},
     "output_type": "execute_result"
    }
   ],
   "source": [
    "test_valy[0]"
   ]
  },
  {
   "cell_type": "code",
   "execution_count": null,
   "id": "institutional-spotlight",
   "metadata": {},
   "outputs": [],
   "source": []
  }
 ],
 "metadata": {
  "kernelspec": {
   "display_name": "Python 3",
   "language": "python",
   "name": "python3"
  },
  "language_info": {
   "codemirror_mode": {
    "name": "ipython",
    "version": 3
   },
   "file_extension": ".py",
   "mimetype": "text/x-python",
   "name": "python",
   "nbconvert_exporter": "python",
   "pygments_lexer": "ipython3",
   "version": "3.8.8"
  }
 },
 "nbformat": 4,
 "nbformat_minor": 5
}
