{
 "cells": [
  {
   "cell_type": "code",
   "execution_count": 1,
   "id": "conditional-individual",
   "metadata": {},
   "outputs": [],
   "source": [
    "import sys\n",
    "from client.data.read_data import read_data\n",
    "import json\n",
    "import yaml"
   ]
  },
  {
   "cell_type": "code",
   "execution_count": 2,
   "id": "urban-weather",
   "metadata": {},
   "outputs": [],
   "source": [
    "test,_ ,test_valy = read_data('data/10clients/client0/test.csv')"
   ]
  },
  {
   "cell_type": "code",
   "execution_count": 3,
   "id": "lyric-julian",
   "metadata": {},
   "outputs": [
    {
     "data": {
      "text/plain": [
       "(array([-6.76871185e-01,  1.16039074e+00,  6.66947141e-01,  9.24790149e-01,\n",
       "         2.54820576e+00, -3.20317770e-01, -7.04797392e-01,  1.74273364e-01,\n",
       "        -1.56038427e-01, -8.52825061e-01,  6.51721870e-01, -8.62913785e-02,\n",
       "         3.90653506e-01,  6.09562025e-01,  1.83014451e-01,  4.68436206e-01,\n",
       "         6.51114006e-01, -5.65765805e-01, -6.53806501e-01, -1.04918204e+00,\n",
       "        -1.20551680e-01, -2.19913018e-01, -6.86590276e-01,  1.77451129e-01,\n",
       "         6.82401381e-01,  2.25478702e-01, -2.88656206e-01, -2.51528987e-03,\n",
       "         3.36149518e-02, -3.59241940e-01]),\n",
       " 0)"
      ]
     },
     "execution_count": 3,
     "metadata": {},
     "output_type": "execute_result"
    }
   ],
   "source": [
    "test[0],test_valy[0]"
   ]
  },
  {
   "cell_type": "code",
   "execution_count": 4,
   "id": "understood-radical",
   "metadata": {},
   "outputs": [
    {
     "data": {
      "text/plain": [
       "0"
      ]
     },
     "execution_count": 4,
     "metadata": {},
     "output_type": "execute_result"
    }
   ],
   "source": [
    "test_valy[0]"
   ]
  },
  {
   "cell_type": "code",
   "execution_count": null,
   "id": "concrete-observation",
   "metadata": {},
   "outputs": [],
   "source": []
  }
 ],
 "metadata": {
  "kernelspec": {
   "display_name": "Python 3",
   "language": "python",
   "name": "python3"
  },
  "language_info": {
   "codemirror_mode": {
    "name": "ipython",
    "version": 3
   },
   "file_extension": ".py",
   "mimetype": "text/x-python",
   "name": "python",
   "nbconvert_exporter": "python",
   "pygments_lexer": "ipython3",
   "version": "3.8.8"
  }
 },
 "nbformat": 4,
 "nbformat_minor": 5
}
