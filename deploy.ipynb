{
 "cells": [
  {
   "cell_type": "markdown",
   "id": "satellite-completion",
   "metadata": {},
   "source": [
    "## Create a Studio model object from a model in the model trail"
   ]
  },
  {
   "cell_type": "code",
   "execution_count": 2,
   "id": "latter-ballet",
   "metadata": {
    "tags": []
   },
   "outputs": [],
   "source": [
    "import os\n",
    "import tensorflow as tf\n",
    "from stackn import stackn\n",
    "from fedn.utils.kerashelper import KerasHelper\n",
    "from client.models.autocoder import create_seed_model"
   ]
  },
  {
   "cell_type": "markdown",
   "id": "greater-bloom",
   "metadata": {},
   "source": [
    "We identify a model_id we want to deploy (from the FEDn model trail), then import this model as a native Keras model object using the FEDn API. "
   ]
  },
  {
   "cell_type": "code",
   "execution_count": 4,
   "id": "challenging-parish",
   "metadata": {},
   "outputs": [],
   "source": [
    "model_id = 'e0848d9a-b940-4a25-a9ae-13cca0ae3a6b'\n",
    "fedn_model = '/home/jovyan/work/minio-vol/fedn-models/{}'.format(model_id)\n",
    " \n",
    "helper = KerasHelper()\n",
    "weights = helper.load_model(fedn_model)\n",
    "\n",
    "model = create_seed_model()\n",
    "model.set_weights(weights)"
   ]
  },
  {
   "cell_type": "code",
   "execution_count": null,
   "id": "lonely-minimum",
   "metadata": {},
   "outputs": [],
   "source": []
  },
  {
   "cell_type": "code",
   "execution_count": null,
   "id": "digital-skating",
   "metadata": {},
   "outputs": [],
   "source": [
    "tf.saved_model.save(model, 'models/1/')\n",
    "stackn.create_object('fedn-fraud', release_type=\"minor\")"
   ]
  }
 ],
 "metadata": {
  "kernelspec": {
   "display_name": "Python 3",
   "language": "python",
   "name": "python3"
  },
  "language_info": {
   "codemirror_mode": {
    "name": "ipython",
    "version": 3
   },
   "file_extension": ".py",
   "mimetype": "text/x-python",
   "name": "python",
   "nbconvert_exporter": "python",
   "pygments_lexer": "ipython3",
   "version": "3.8.8"
  }
 },
 "nbformat": 4,
 "nbformat_minor": 5
}
